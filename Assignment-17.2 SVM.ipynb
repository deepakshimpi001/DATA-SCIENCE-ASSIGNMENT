{
 "cells": [
  {
   "cell_type": "markdown",
   "id": "55e8767c",
   "metadata": {},
   "source": [
    "# Problem statement:-2]"
   ]
  },
  {
   "cell_type": "code",
   "execution_count": 1,
   "id": "2f93732d",
   "metadata": {},
   "outputs": [],
   "source": [
    "# classify the Size_Categorie using SVM\n",
    "\n",
    "# month\tmonth of the year: 'jan' to 'dec'\n",
    "# day\tday of the week: 'mon' to 'sun'\n",
    "# FFMC\tFFMC index from the FWI system: 18.7 to 96.20\n",
    "# DMC\tDMC index from the FWI system: 1.1 to 291.3\n",
    "# DC\tDC index from the FWI system: 7.9 to 860.6\n",
    "# ISI\tISI index from the FWI system: 0.0 to 56.10\n",
    "# temp\ttemperature in Celsius degrees: 2.2 to 33.30\n",
    "# RH\trelative humidity in %: 15.0 to 100\n",
    "# wind\twind speed in km/h: 0.40 to 9.40\n",
    "# rain\toutside rain in mm/m2 : 0.0 to 6.4\n",
    "# Size_Categorie \tthe burned area of the forest ( Small , Large)"
   ]
  },
  {
   "cell_type": "code",
   "execution_count": 23,
   "id": "d6a954b5",
   "metadata": {},
   "outputs": [],
   "source": [
    "# SVM Classification\n",
    "import pandas as pd\n",
    "import numpy as np\n",
    "from sklearn.feature_extraction.text import CountVectorizer, TfidfVectorizer\n",
    "from sklearn.preprocessing import StandardScaler\n",
    "\n",
    "from sklearn import svm\n",
    "from sklearn.svm import SVC\n",
    "from sklearn.model_selection import GridSearchCV\n",
    "from sklearn.metrics import classification_report\n",
    "\n",
    "\n",
    "from sklearn.metrics import accuracy_score, confusion_matrix\n",
    "from sklearn.model_selection import train_test_split, cross_val_score\n",
    "import warnings\n",
    "warnings.filterwarnings(\"ignore\")\n"
   ]
  },
  {
   "cell_type": "code",
   "execution_count": 3,
   "id": "b490d364",
   "metadata": {},
   "outputs": [
    {
     "data": {
      "text/plain": [
       "(517, 31)"
      ]
     },
     "execution_count": 3,
     "metadata": {},
     "output_type": "execute_result"
    }
   ],
   "source": [
    "df=pd.read_csv(\"forestfires.csv\")\n",
    "df.shape"
   ]
  },
  {
   "cell_type": "code",
   "execution_count": 4,
   "id": "ca7cbb74",
   "metadata": {},
   "outputs": [
    {
     "data": {
      "text/plain": [
       "array(['small', 'large'], dtype=object)"
      ]
     },
     "execution_count": 4,
     "metadata": {},
     "output_type": "execute_result"
    }
   ],
   "source": [
    "df[\"size_category\"].unique()"
   ]
  },
  {
   "cell_type": "code",
   "execution_count": 5,
   "id": "bc1e5b08",
   "metadata": {},
   "outputs": [
    {
     "data": {
      "text/html": [
       "<div>\n",
       "<style scoped>\n",
       "    .dataframe tbody tr th:only-of-type {\n",
       "        vertical-align: middle;\n",
       "    }\n",
       "\n",
       "    .dataframe tbody tr th {\n",
       "        vertical-align: top;\n",
       "    }\n",
       "\n",
       "    .dataframe thead th {\n",
       "        text-align: right;\n",
       "    }\n",
       "</style>\n",
       "<table border=\"1\" class=\"dataframe\">\n",
       "  <thead>\n",
       "    <tr style=\"text-align: right;\">\n",
       "      <th></th>\n",
       "      <th>FFMC</th>\n",
       "      <th>DMC</th>\n",
       "      <th>DC</th>\n",
       "      <th>ISI</th>\n",
       "      <th>temp</th>\n",
       "      <th>RH</th>\n",
       "      <th>wind</th>\n",
       "      <th>rain</th>\n",
       "    </tr>\n",
       "  </thead>\n",
       "  <tbody>\n",
       "    <tr>\n",
       "      <th>0</th>\n",
       "      <td>86.2</td>\n",
       "      <td>26.2</td>\n",
       "      <td>94.3</td>\n",
       "      <td>5.1</td>\n",
       "      <td>8.2</td>\n",
       "      <td>51</td>\n",
       "      <td>6.7</td>\n",
       "      <td>0.0</td>\n",
       "    </tr>\n",
       "    <tr>\n",
       "      <th>1</th>\n",
       "      <td>90.6</td>\n",
       "      <td>35.4</td>\n",
       "      <td>669.1</td>\n",
       "      <td>6.7</td>\n",
       "      <td>18.0</td>\n",
       "      <td>33</td>\n",
       "      <td>0.9</td>\n",
       "      <td>0.0</td>\n",
       "    </tr>\n",
       "    <tr>\n",
       "      <th>2</th>\n",
       "      <td>90.6</td>\n",
       "      <td>43.7</td>\n",
       "      <td>686.9</td>\n",
       "      <td>6.7</td>\n",
       "      <td>14.6</td>\n",
       "      <td>33</td>\n",
       "      <td>1.3</td>\n",
       "      <td>0.0</td>\n",
       "    </tr>\n",
       "    <tr>\n",
       "      <th>3</th>\n",
       "      <td>91.7</td>\n",
       "      <td>33.3</td>\n",
       "      <td>77.5</td>\n",
       "      <td>9.0</td>\n",
       "      <td>8.3</td>\n",
       "      <td>97</td>\n",
       "      <td>4.0</td>\n",
       "      <td>0.2</td>\n",
       "    </tr>\n",
       "    <tr>\n",
       "      <th>4</th>\n",
       "      <td>89.3</td>\n",
       "      <td>51.3</td>\n",
       "      <td>102.2</td>\n",
       "      <td>9.6</td>\n",
       "      <td>11.4</td>\n",
       "      <td>99</td>\n",
       "      <td>1.8</td>\n",
       "      <td>0.0</td>\n",
       "    </tr>\n",
       "  </tbody>\n",
       "</table>\n",
       "</div>"
      ],
      "text/plain": [
       "   FFMC   DMC     DC  ISI  temp  RH  wind  rain\n",
       "0  86.2  26.2   94.3  5.1   8.2  51   6.7   0.0\n",
       "1  90.6  35.4  669.1  6.7  18.0  33   0.9   0.0\n",
       "2  90.6  43.7  686.9  6.7  14.6  33   1.3   0.0\n",
       "3  91.7  33.3   77.5  9.0   8.3  97   4.0   0.2\n",
       "4  89.3  51.3  102.2  9.6  11.4  99   1.8   0.0"
      ]
     },
     "execution_count": 5,
     "metadata": {},
     "output_type": "execute_result"
    }
   ],
   "source": [
    "X=df.iloc[:,2:10]\n",
    "y1=df[\"size_category\"]\n",
    "X.head()\n",
    "\n"
   ]
  },
  {
   "cell_type": "code",
   "execution_count": 6,
   "id": "631d11e6",
   "metadata": {},
   "outputs": [],
   "source": [
    "from sklearn.preprocessing import LabelEncoder"
   ]
  },
  {
   "cell_type": "code",
   "execution_count": 7,
   "id": "63d3b34a",
   "metadata": {},
   "outputs": [],
   "source": [
    "yl=LabelEncoder()\n",
    "yl.fit(y1)\n",
    "y=yl.transform(y1)"
   ]
  },
  {
   "cell_type": "code",
   "execution_count": 8,
   "id": "8ba8e730",
   "metadata": {},
   "outputs": [
    {
     "data": {
      "text/html": [
       "<div>\n",
       "<style scoped>\n",
       "    .dataframe tbody tr th:only-of-type {\n",
       "        vertical-align: middle;\n",
       "    }\n",
       "\n",
       "    .dataframe tbody tr th {\n",
       "        vertical-align: top;\n",
       "    }\n",
       "\n",
       "    .dataframe thead th {\n",
       "        text-align: right;\n",
       "    }\n",
       "</style>\n",
       "<table border=\"1\" class=\"dataframe\">\n",
       "  <thead>\n",
       "    <tr style=\"text-align: right;\">\n",
       "      <th></th>\n",
       "      <th>size_category</th>\n",
       "    </tr>\n",
       "  </thead>\n",
       "  <tbody>\n",
       "    <tr>\n",
       "      <th>0</th>\n",
       "      <td>1</td>\n",
       "    </tr>\n",
       "    <tr>\n",
       "      <th>1</th>\n",
       "      <td>1</td>\n",
       "    </tr>\n",
       "    <tr>\n",
       "      <th>2</th>\n",
       "      <td>1</td>\n",
       "    </tr>\n",
       "    <tr>\n",
       "      <th>3</th>\n",
       "      <td>1</td>\n",
       "    </tr>\n",
       "    <tr>\n",
       "      <th>4</th>\n",
       "      <td>1</td>\n",
       "    </tr>\n",
       "  </tbody>\n",
       "</table>\n",
       "</div>"
      ],
      "text/plain": [
       "   size_category\n",
       "0              1\n",
       "1              1\n",
       "2              1\n",
       "3              1\n",
       "4              1"
      ]
     },
     "execution_count": 8,
     "metadata": {},
     "output_type": "execute_result"
    }
   ],
   "source": [
    "y=pd.DataFrame(y,columns=[\"size_category\"])\n",
    "y.head()"
   ]
  },
  {
   "cell_type": "code",
   "execution_count": 9,
   "id": "d7af6cdb",
   "metadata": {},
   "outputs": [
    {
     "data": {
      "text/plain": [
       "1    378\n",
       "0    139\n",
       "Name: size_category, dtype: int64"
      ]
     },
     "execution_count": 9,
     "metadata": {},
     "output_type": "execute_result"
    }
   ],
   "source": [
    "y[\"size_category\"].value_counts()\n"
   ]
  },
  {
   "cell_type": "code",
   "execution_count": 10,
   "id": "8aa885d6",
   "metadata": {},
   "outputs": [],
   "source": [
    "X_train,X_test,y_train,y_test=train_test_split(X,y,test_size=0.3,random_state=0)"
   ]
  },
  {
   "cell_type": "code",
   "execution_count": 11,
   "id": "de42e494",
   "metadata": {},
   "outputs": [
    {
     "data": {
      "text/plain": [
       "((361, 8), (156, 8), (361, 1), (156, 1))"
      ]
     },
     "execution_count": 11,
     "metadata": {},
     "output_type": "execute_result"
    }
   ],
   "source": [
    "X_train.shape,X_test.shape,y_train.shape,y_test.shape"
   ]
  },
  {
   "cell_type": "markdown",
   "id": "a9533c7d",
   "metadata": {},
   "source": [
    "# Running SVM with default hyperparameter"
   ]
  },
  {
   "cell_type": "code",
   "execution_count": 12,
   "id": "fe699d81",
   "metadata": {},
   "outputs": [
    {
     "name": "stdout",
     "output_type": "stream",
     "text": [
      "accuracy_score: 70.51282051282051\n",
      "[[  0  46]\n",
      " [  0 110]]\n"
     ]
    }
   ],
   "source": [
    "model=SVC()\n",
    "model.fit(X_train,y_train)\n",
    "y_pred=model.predict(X_test)\n",
    "print(\"accuracy_score:\",accuracy_score(y_test,y_pred)*100)\n",
    "print(confusion_matrix(y_test,y_pred))"
   ]
  },
  {
   "cell_type": "code",
   "execution_count": 13,
   "id": "92f15174",
   "metadata": {},
   "outputs": [
    {
     "name": "stdout",
     "output_type": "stream",
     "text": [
      "accuracy_score: 70.51282051282051\n",
      "[[  0  46]\n",
      " [  0 110]]\n"
     ]
    }
   ],
   "source": [
    "model=SVC(kernel=\"poly\")\n",
    "model.fit(X_train,y_train)\n",
    "y_pred=model.predict(X_test)\n",
    "print(\"accuracy_score:\",accuracy_score(y_test,y_pred)*100)\n",
    "print(confusion_matrix(y_test,y_pred))"
   ]
  },
  {
   "cell_type": "code",
   "execution_count": 14,
   "id": "44b49e5f",
   "metadata": {},
   "outputs": [
    {
     "name": "stdout",
     "output_type": "stream",
     "text": [
      "accuracy_score: 70.51282051282051\n",
      "[[  0  46]\n",
      " [  0 110]]\n"
     ]
    }
   ],
   "source": [
    "model=SVC(kernel=\"linear\")\n",
    "model.fit(X_train,y_train)\n",
    "y_pred=model.predict(X_test)\n",
    "print(\"accuracy_score:\",accuracy_score(y_test,y_pred)*100)\n",
    "print(confusion_matrix(y_test,y_pred))"
   ]
  },
  {
   "cell_type": "markdown",
   "id": "4da7a51b",
   "metadata": {},
   "source": [
    "# Performing K-fold cross validation with different kernels"
   ]
  },
  {
   "cell_type": "code",
   "execution_count": 25,
   "id": "8e703ba8",
   "metadata": {},
   "outputs": [
    {
     "name": "stdout",
     "output_type": "stream",
     "text": [
      "[0.73076923 0.73076923 0.73076923 0.73076923 0.73076923 0.73076923\n",
      " 0.73076923 0.74509804 0.7254902  0.7254902 ]\n",
      "0.7311463046757165\n"
     ]
    }
   ],
   "source": [
    "svc=SVC()\n",
    "kmodel=cross_val_score(svc,X,y,cv=10,scoring='accuracy')\n",
    "print(kmodel)\n",
    "print(kmodel.mean())"
   ]
  },
  {
   "cell_type": "code",
   "execution_count": 26,
   "id": "c52affb8",
   "metadata": {},
   "outputs": [
    {
     "name": "stdout",
     "output_type": "stream",
     "text": [
      "[0.73076923 0.73076923 0.73076923 0.73076923 0.73076923 0.73076923\n",
      " 0.73076923 0.74509804 0.7254902  0.7254902 ]\n",
      "0.7311463046757165\n"
     ]
    }
   ],
   "source": [
    "svc=SVC(kernel=\"poly\")\n",
    "kmodel=cross_val_score(svc,X,y,cv=10,scoring='accuracy')\n",
    "print(kmodel)\n",
    "print(kmodel.mean())"
   ]
  },
  {
   "cell_type": "code",
   "execution_count": 29,
   "id": "4213b346",
   "metadata": {},
   "outputs": [
    {
     "name": "stdout",
     "output_type": "stream",
     "text": [
      "[0.7311463046757165, 0.7311463046757165, 0.7311463046757165, 0.7311463046757165, 0.7311463046757165, 0.7311463046757165, 0.7311463046757165, 0.7311463046757165, 0.7311463046757165, 0.7311463046757165, 0.7311463046757165, 0.7311463046757165, 0.7311463046757165, 0.7311463046757165, 0.7311463046757165, 0.7311463046757165, 0.7311463046757165, 0.7311463046757165, 0.7311463046757165, 0.7311463046757165, 0.7311463046757165, 0.7311463046757165, 0.7311463046757165, 0.7311463046757165, 0.7311463046757165, 0.7311463046757165, 0.7311463046757165, 0.7311463046757165, 0.7311463046757165, 0.7311463046757165, 0.7311463046757165, 0.7311463046757165, 0.7311463046757165, 0.7311463046757165, 0.7311463046757165, 0.7311463046757165, 0.7311463046757165, 0.7311463046757165, 0.7311463046757165, 0.7311463046757165, 0.7311463046757165, 0.7311463046757165, 0.7311463046757165, 0.7311463046757165, 0.7311463046757165, 0.7311463046757165, 0.7311463046757165, 0.7311463046757165, 0.7311463046757165, 0.7311463046757165, 0.7311463046757165, 0.7311463046757165, 0.7311463046757165, 0.7311463046757165, 0.7311463046757165, 0.7311463046757165, 0.7311463046757165, 0.7311463046757165, 0.7311463046757165]\n"
     ]
    }
   ],
   "source": [
    "C_range=list(np.arange(0.1,6,0.1))\n",
    "acc_score=[]\n",
    "for c in C_range:\n",
    "    svc = SVC(kernel='poly', C=c)\n",
    "    scores = cross_val_score(svc, X, y, cv=10, scoring='accuracy')\n",
    "    acc_score.append(scores.mean())\n",
    "print(acc_score) "
   ]
  },
  {
   "cell_type": "code",
   "execution_count": 31,
   "id": "e2e2295c",
   "metadata": {},
   "outputs": [
    {
     "data": {
      "text/plain": [
       "Text(0, 0.5, 'Cross-Validated Accuracy')"
      ]
     },
     "execution_count": 31,
     "metadata": {},
     "output_type": "execute_result"
    },
    {
     "data": {
      "image/png": "[encoded data removed]",
      "text/plain": [
       "<Figure size 432x288 with 1 Axes>"
      ]
     },
     "metadata": {
      "needs_background": "light"
     },
     "output_type": "display_data"
    }
   ],
   "source": [
    "import matplotlib.pyplot as plt\n",
    "%matplotlib inline\n",
    "\n",
    "C_values=list(np.arange(0.1,6,0.1))\n",
    "# plot the value of C for SVM (x-axis) versus the cross-validated accuracy (y-axis)\n",
    "plt.plot(C_values,acc_score)\n",
    "plt.xticks(np.arange(0.0,6,0.3))\n",
    "plt.xlabel('Value of C for SVC ')\n",
    "plt.ylabel('Cross-Validated Accuracy')"
   ]
  },
  {
   "cell_type": "markdown",
   "id": "4e139bf6",
   "metadata": {},
   "source": [
    "# GridsearchCV"
   ]
  },
  {
   "cell_type": "code",
   "execution_count": 15,
   "id": "eaeefc5a",
   "metadata": {},
   "outputs": [
    {
     "data": {
      "text/plain": [
       "GridSearchCV(cv=10, estimator=SVC(),\n",
       "             param_grid=[{'C': [15, 14, 13, 12, 11, 10, 0.1, 0.001],\n",
       "                          'gamma': [50, 5, 10, 0.5], 'kernel': ['rbf']}])"
      ]
     },
     "execution_count": 15,
     "metadata": {},
     "output_type": "execute_result"
    }
   ],
   "source": [
    "clf=SVC()\n",
    "param_grid = [{'kernel':['rbf'],'gamma':[50,5,10,0.5],'C':[15,14,13,12,11,10,0.1,0.001] }]\n",
    "gsv = GridSearchCV(clf,param_grid,cv=10)\n",
    "gsv.fit(X_train,y_train)"
   ]
  },
  {
   "cell_type": "code",
   "execution_count": 16,
   "id": "f451ce62",
   "metadata": {},
   "outputs": [
    {
     "data": {
      "text/plain": [
       "({'C': 0.1, 'gamma': 50, 'kernel': 'rbf'}, 0.7424174174174174)"
      ]
     },
     "execution_count": 16,
     "metadata": {},
     "output_type": "execute_result"
    }
   ],
   "source": [
    "gsv.best_params_ , gsv.best_score_ "
   ]
  },
  {
   "cell_type": "code",
   "execution_count": 17,
   "id": "124582a2",
   "metadata": {},
   "outputs": [],
   "source": [
    "clf=SVC(C=15,gamma=0.5)\n",
    "clf.fit(X_train,y_train)\n",
    "y_pred=clf.predict(X_test)"
   ]
  },
  {
   "cell_type": "code",
   "execution_count": 18,
   "id": "e8b6a6f0",
   "metadata": {},
   "outputs": [],
   "source": [
    "acc=accuracy_score(y_test,y_pred)*100"
   ]
  },
  {
   "cell_type": "code",
   "execution_count": 19,
   "id": "4c795324",
   "metadata": {},
   "outputs": [
    {
     "data": {
      "text/plain": [
       "70.51282051282051"
      ]
     },
     "execution_count": 19,
     "metadata": {},
     "output_type": "execute_result"
    }
   ],
   "source": [
    "acc"
   ]
  },
  {
   "cell_type": "code",
   "execution_count": 20,
   "id": "02431e29",
   "metadata": {},
   "outputs": [
    {
     "data": {
      "text/plain": [
       "array([[  4,  42],\n",
       "       [  4, 106]], dtype=int64)"
      ]
     },
     "execution_count": 20,
     "metadata": {},
     "output_type": "execute_result"
    }
   ],
   "source": [
    "confusion_matrix(y_test,y_pred)"
   ]
  },
  {
   "cell_type": "code",
   "execution_count": 21,
   "id": "3a5e7a00",
   "metadata": {},
   "outputs": [
    {
     "data": {
      "text/plain": [
       "(156, 8)"
      ]
     },
     "execution_count": 21,
     "metadata": {},
     "output_type": "execute_result"
    }
   ],
   "source": [
    "X_test.shape"
   ]
  },
  {
   "cell_type": "code",
   "execution_count": null,
   "id": "7426f465",
   "metadata": {},
   "outputs": [],
   "source": []
  },
  {
   "cell_type": "code",
   "execution_count": null,
   "id": "63052809",
   "metadata": {},
   "outputs": [],
   "source": []
  }
 ],
 "metadata": {
  "kernelspec": {
   "display_name": "Python 3 (ipykernel)",
   "language": "python",
   "name": "python3"
  },
  "language_info": {
   "codemirror_mode": {
    "name": "ipython",
    "version": 3
   },
   "file_extension": ".py",
   "mimetype": "text/x-python",
   "name": "python",
   "nbconvert_exporter": "python",
   "pygments_lexer": "ipython3",
   "version": "3.9.7"
  }
 },
 "nbformat": 4,
 "nbformat_minor": 5
}
